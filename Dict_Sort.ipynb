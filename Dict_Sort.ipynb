{
 "cells": [
  {
   "cell_type": "markdown",
   "id": "f27b983a",
   "metadata": {},
   "source": [
    "# ※ sort와 sorted의 차이\n",
    "- sort: list에 바로 영향을 줌(파괴적 함수)\n",
    "- sorted: 새로운 list를 설정해줘야 함(비파괴적 함수)"
   ]
  },
  {
   "cell_type": "markdown",
   "id": "79c5b0ca",
   "metadata": {},
   "source": [
    "# 1. 딕셔너리로 Value 기준으로 Sort"
   ]
  },
  {
   "cell_type": "markdown",
   "id": "718862d7",
   "metadata": {},
   "source": [
    "## 1) 오름차순"
   ]
  },
  {
   "cell_type": "code",
   "execution_count": null,
   "id": "5afadcba",
   "metadata": {},
   "outputs": [],
   "source": [
    "# a. value값 기준으로 정렬하기\n",
    "sorted_dict = sorted(list, key = lambda x: dict[x])\n",
    "\n",
    "# b. items()를 이용한 sorting\n",
    "sorted_dict = sorted(list.items(), key = lambda x: x:[1])\n",
    "# 딕셔너리에 items() 메서드를 사용해주면 {\"key\" : value}의 형태를 [(key, value)]의 형태(tuple)로 만들어 준다."
   ]
  },
  {
   "cell_type": "markdown",
   "id": "27f6f789",
   "metadata": {},
   "source": [
    "## 2) 내림차순\n",
    "- sorted() 안에 reverse = True를 인자로 전달하면 됨"
   ]
  }
 ],
 "metadata": {
  "kernelspec": {
   "display_name": "Python 3 (ipykernel)",
   "language": "python",
   "name": "python3"
  },
  "language_info": {
   "codemirror_mode": {
    "name": "ipython",
    "version": 3
   },
   "file_extension": ".py",
   "mimetype": "text/x-python",
   "name": "python",
   "nbconvert_exporter": "python",
   "pygments_lexer": "ipython3",
   "version": "3.9.12"
  }
 },
 "nbformat": 4,
 "nbformat_minor": 5
}
