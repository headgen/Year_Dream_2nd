{
 "cells": [
  {
   "cell_type": "code",
   "execution_count": null,
   "id": "1c0e0b56",
   "metadata": {},
   "outputs": [],
   "source": [
    "# https://programmers-sosin.tistory.com/m/entry/Python-Kakao-API%EB%A5%BC-%EC%9D%B4%EC%9A%A9%ED%95%98%EC%97%AC-%EC%A3%BC%EC%86%8C%EB%A5%BC-%EC%9D%B4%EC%9A%A9%ED%95%B4-%EC%9C%84%EB%8F%84-%EA%B2%BD%EB%8F%84-%EC%95%8C%EC%95%84%EB%82%B4%EA%B8%B0\n",
    "\n",
    "import json\n",
    "import requests\n",
    "from urllib.parse import urlparse\n",
    "\n",
    "rest_api_key = ''\n",
    "\n",
    "address = input('주소를 입력해주세요 : ')\n",
    "\n",
    "url = f'https://dapi.kakao.com/v2/local/search/address.json?query={address}'\n",
    "\n",
    "result = requests.get(urlparse(url).geturl(),\n",
    "                     headers={'Authorization':f'KakaoAK {rest_api_key}'}).json()\n",
    "\n",
    "print(json.dumps(result, indent=4, ensure_ascii=False) + '\\n')\n",
    "\n",
    "lat = result['documents'][0]['x']\n",
    "lng = result['documents'][0]['y']\n",
    "\n",
    "print(f'위도 : {lat} \\n경도 : {lng}')"
   ]
  }
 ],
 "metadata": {
  "kernelspec": {
   "display_name": "Python 3 (ipykernel)",
   "language": "python",
   "name": "python3"
  },
  "language_info": {
   "codemirror_mode": {
    "name": "ipython",
    "version": 3
   },
   "file_extension": ".py",
   "mimetype": "text/x-python",
   "name": "python",
   "nbconvert_exporter": "python",
   "pygments_lexer": "ipython3",
   "version": "3.9.12"
  }
 },
 "nbformat": 4,
 "nbformat_minor": 5
}
