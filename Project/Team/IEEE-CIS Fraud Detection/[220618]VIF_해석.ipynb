{
 "cells": [
  {
   "cell_type": "markdown",
   "id": "0f8329f7",
   "metadata": {},
   "source": [
    "평균과 신뢰구간을 이용한 유의미한 Numerical Data 분류]\n",
    "먼저 Min-Max Scaling 사용해서 스케일 조정\n",
    "기준은 30% 이상 평균 차이가 나는 Feature이고, 평균이 0인 있는 Feature는 제외하였습니다\n",
    "선택된 Feature의 총 갯수는 243개입니다"
   ]
  },
  {
   "cell_type": "code",
   "execution_count": 25,
   "id": "4cb22c4d",
   "metadata": {
    "ExecuteTime": {
     "end_time": "2022-06-18T04:03:48.367038Z",
     "start_time": "2022-06-18T04:03:41.107132Z"
    }
   },
   "outputs": [],
   "source": [
    "import pandas as pd\n",
    "import numpy as np\n",
    "import matplotlib.pyplot as plt\n",
    "import seaborn as sns\n",
    "\n",
    "pd.options.display.float_format = '{:.5f}'.format # 지수표현을 실수표현을 변경"
   ]
  },
  {
   "cell_type": "code",
   "execution_count": 20,
   "id": "b9e786e5",
   "metadata": {
    "ExecuteTime": {
     "end_time": "2022-06-18T04:01:05.465593Z",
     "start_time": "2022-06-18T04:01:05.422583Z"
    }
   },
   "outputs": [
    {
     "data": {
      "text/html": [
       "<div>\n",
       "<style scoped>\n",
       "    .dataframe tbody tr th:only-of-type {\n",
       "        vertical-align: middle;\n",
       "    }\n",
       "\n",
       "    .dataframe tbody tr th {\n",
       "        vertical-align: top;\n",
       "    }\n",
       "\n",
       "    .dataframe thead th {\n",
       "        text-align: right;\n",
       "    }\n",
       "</style>\n",
       "<table border=\"1\" class=\"dataframe\">\n",
       "  <thead>\n",
       "    <tr style=\"text-align: right;\">\n",
       "      <th></th>\n",
       "      <th>features</th>\n",
       "      <th>value</th>\n",
       "    </tr>\n",
       "  </thead>\n",
       "  <tbody>\n",
       "    <tr>\n",
       "      <th>0</th>\n",
       "      <td>dist1</td>\n",
       "      <td>3.902207</td>\n",
       "    </tr>\n",
       "    <tr>\n",
       "      <th>1</th>\n",
       "      <td>C1</td>\n",
       "      <td>601.822087</td>\n",
       "    </tr>\n",
       "    <tr>\n",
       "      <th>2</th>\n",
       "      <td>C2</td>\n",
       "      <td>405.744421</td>\n",
       "    </tr>\n",
       "    <tr>\n",
       "      <th>3</th>\n",
       "      <td>C3</td>\n",
       "      <td>1.135979</td>\n",
       "    </tr>\n",
       "    <tr>\n",
       "      <th>4</th>\n",
       "      <td>C4</td>\n",
       "      <td>875.565822</td>\n",
       "    </tr>\n",
       "    <tr>\n",
       "      <th>...</th>\n",
       "      <td>...</td>\n",
       "      <td>...</td>\n",
       "    </tr>\n",
       "    <tr>\n",
       "      <th>238</th>\n",
       "      <td>V332</td>\n",
       "      <td>6702.456808</td>\n",
       "    </tr>\n",
       "    <tr>\n",
       "      <th>239</th>\n",
       "      <td>V333</td>\n",
       "      <td>10687.394043</td>\n",
       "    </tr>\n",
       "    <tr>\n",
       "      <th>240</th>\n",
       "      <td>V337</td>\n",
       "      <td>2360.361529</td>\n",
       "    </tr>\n",
       "    <tr>\n",
       "      <th>241</th>\n",
       "      <td>V338</td>\n",
       "      <td>2182.163849</td>\n",
       "    </tr>\n",
       "    <tr>\n",
       "      <th>242</th>\n",
       "      <td>V339</td>\n",
       "      <td>3969.686957</td>\n",
       "    </tr>\n",
       "  </tbody>\n",
       "</table>\n",
       "<p>243 rows × 2 columns</p>\n",
       "</div>"
      ],
      "text/plain": [
       "    features         value\n",
       "0      dist1      3.902207\n",
       "1         C1    601.822087\n",
       "2         C2    405.744421\n",
       "3         C3      1.135979\n",
       "4         C4    875.565822\n",
       "..       ...           ...\n",
       "238     V332   6702.456808\n",
       "239     V333  10687.394043\n",
       "240     V337   2360.361529\n",
       "241     V338   2182.163849\n",
       "242     V339   3969.686957\n",
       "\n",
       "[243 rows x 2 columns]"
      ]
     },
     "execution_count": 20,
     "metadata": {},
     "output_type": "execute_result"
    }
   ],
   "source": [
    "# 첫 번째 컬럼을 index로 사용하도록 지정하여 로드\n",
    "vif = pd.read_csv('vif_result.csv', index_col = 0)\n",
    "vif"
   ]
  },
  {
   "cell_type": "code",
   "execution_count": 24,
   "id": "38488667",
   "metadata": {
    "ExecuteTime": {
     "end_time": "2022-06-18T04:02:50.628256Z",
     "start_time": "2022-06-18T04:02:50.608260Z"
    }
   },
   "outputs": [
    {
     "data": {
      "text/plain": [
       "3.90221            1\n",
       "223511573.63930    1\n",
       "1015.60628         1\n",
       "300.76462          1\n",
       "5897.93615         1\n",
       "                  ..\n",
       "1341.51025         1\n",
       "11053.09931        1\n",
       "3727.73023         1\n",
       "33732.45544        1\n",
       "3969.68696         1\n",
       "Name: value, Length: 243, dtype: int64"
      ]
     },
     "execution_count": 24,
     "metadata": {},
     "output_type": "execute_result"
    }
   ],
   "source": [
    "vif.value.value_counts()"
   ]
  },
  {
   "cell_type": "code",
   "execution_count": 27,
   "id": "06863e37",
   "metadata": {
    "ExecuteTime": {
     "end_time": "2022-06-18T04:08:59.736632Z",
     "start_time": "2022-06-18T04:08:58.129960Z"
    }
   },
   "outputs": [
    {
     "name": "stderr",
     "output_type": "stream",
     "text": [
      "C:\\Users\\Han\\anaconda3\\lib\\site-packages\\seaborn\\distributions.py:2619: FutureWarning: `distplot` is a deprecated function and will be removed in a future version. Please adapt your code to use either `displot` (a figure-level function with similar flexibility) or `histplot` (an axes-level function for histograms).\n",
      "  warnings.warn(msg, FutureWarning)\n",
      "C:\\Users\\Han\\anaconda3\\lib\\site-packages\\seaborn\\distributions.py:2103: FutureWarning: The `axis` variable is no longer used and will be removed. Instead, assign variables directly to `x` or `y`.\n",
      "  warnings.warn(msg, FutureWarning)\n"
     ]
    },
    {
     "data": {
      "text/plain": [
       "<AxesSubplot:xlabel='value', ylabel='Density'>"
      ]
     },
     "execution_count": 27,
     "metadata": {},
     "output_type": "execute_result"
    },
    {
     "data": {
      "image/png": "[encoded data removed]",
      "text/plain": [
       "<Figure size 432x288 with 1 Axes>"
      ]
     },
     "metadata": {
      "needs_background": "light"
     },
     "output_type": "display_data"
    }
   ],
   "source": [
    "sns.distplot(vif['value'], kde=True, rug=True)"
   ]
  },
  {
   "cell_type": "code",
   "execution_count": 37,
   "id": "788117db",
   "metadata": {
    "ExecuteTime": {
     "end_time": "2022-06-18T04:22:44.822669Z",
     "start_time": "2022-06-18T04:22:44.789073Z"
    }
   },
   "outputs": [
    {
     "name": "stdout",
     "output_type": "stream",
     "text": [
      "VIF가 4 이상인 갯수는 241입니다.\n",
      "VIF가 5 이상인 갯수는 240입니다.\n",
      "VIF가 6 이상인 갯수는 239입니다.\n",
      "VIF가 7 이상인 갯수는 239입니다.\n",
      "VIF가 8 이상인 갯수는 238입니다.\n",
      "VIF가 9 이상인 갯수는 238입니다.\n",
      "VIF가 10 이상인 갯수는 238입니다.\n"
     ]
    }
   ],
   "source": [
    "for i in range(4,11):\n",
    "    print(f\"VIF가 {i} 이상인 갯수는 {vif.loc[vif['value']>i, 'value'].count()}입니다.\")"
   ]
  }
 ],
 "metadata": {
  "kernelspec": {
   "display_name": "Python 3 (ipykernel)",
   "language": "python",
   "name": "python3"
  },
  "language_info": {
   "codemirror_mode": {
    "name": "ipython",
    "version": 3
   },
   "file_extension": ".py",
   "mimetype": "text/x-python",
   "name": "python",
   "nbconvert_exporter": "python",
   "pygments_lexer": "ipython3",
   "version": "3.9.7"
  },
  "toc": {
   "base_numbering": 1,
   "nav_menu": {},
   "number_sections": true,
   "sideBar": true,
   "skip_h1_title": false,
   "title_cell": "Table of Contents",
   "title_sidebar": "Contents",
   "toc_cell": false,
   "toc_position": {},
   "toc_section_display": true,
   "toc_window_display": false
  }
 },
 "nbformat": 4,
 "nbformat_minor": 5
}
